{
 "cells": [
  {
   "cell_type": "markdown",
   "metadata": {},
   "source": [
    "# WeatherPy\n",
    "----\n",
    "\n",
    "#### Note\n",
    "* Instructions have been included for each segment. You do not have to follow them exactly, but they are included to help you think through the steps."
   ]
  },
  {
   "cell_type": "code",
   "execution_count": 26,
   "metadata": {
    "scrolled": true
   },
   "outputs": [],
   "source": [
    "# Dependencies and Setup\n",
    "import matplotlib.pyplot as plt\n",
    "import pandas as pd\n",
    "import numpy as np\n",
    "import requests\n",
    "import time\n",
    "from scipy.stats import linregress\n",
    "\n",
    "# Import API key\n",
    "from api_keys import weather_api_key\n",
    "\n",
    "# Incorporated citipy to determine city based on latitude and longitude\n",
    "from citipy import citipy\n",
    "\n",
    "# Output File (CSV)\n",
    "output_data_file = \"output_data/cities.csv\"\n",
    "\n",
    "# Range of latitudes and longitudes\n",
    "lat_range = (-90, 90)\n",
    "lng_range = (-180, 180)"
   ]
  },
  {
   "cell_type": "markdown",
   "metadata": {},
   "source": [
    "## Generate Cities List"
   ]
  },
  {
   "cell_type": "code",
   "execution_count": 27,
   "metadata": {},
   "outputs": [
    {
     "data": {
      "text/plain": [
       "589"
      ]
     },
     "execution_count": 27,
     "metadata": {},
     "output_type": "execute_result"
    }
   ],
   "source": [
    "# List for holding lat_lngs and cities\n",
    "lat_lngs = []\n",
    "cities = []\n",
    "\n",
    "# Create a set of random lat and lng combinations\n",
    "lats = np.random.uniform(lat_range[0], lat_range[1], size=1500)\n",
    "lngs = np.random.uniform(lng_range[0], lng_range[1], size=1500)\n",
    "lat_lngs = zip(lats, lngs)\n",
    "\n",
    "# Identify nearest city for each lat, lng combination\n",
    "for lat_lng in lat_lngs:\n",
    "    city = citipy.nearest_city(lat_lng[0], lat_lng[1]).city_name\n",
    "    \n",
    "    # If the city is unique, then add it to a our cities list\n",
    "    if city not in cities:\n",
    "        cities.append(city)\n",
    "\n",
    "# Print the city count to confirm sufficient count\n",
    "len(cities)"
   ]
  },
  {
   "cell_type": "code",
   "execution_count": 100,
   "metadata": {},
   "outputs": [
    {
     "data": {
      "text/plain": [
       "{'coord': {'lon': -0.1257, 'lat': 51.5085},\n",
       " 'weather': [{'id': 804,\n",
       "   'main': 'Clouds',\n",
       "   'description': 'overcast clouds',\n",
       "   'icon': '04n'}],\n",
       " 'base': 'stations',\n",
       " 'main': {'temp': 279.54,\n",
       "  'feels_like': 278.63,\n",
       "  'temp_min': 276.21,\n",
       "  'temp_max': 281.01,\n",
       "  'pressure': 1026,\n",
       "  'humidity': 83},\n",
       " 'visibility': 10000,\n",
       " 'wind': {'speed': 1.54, 'deg': 220},\n",
       " 'clouds': {'all': 100},\n",
       " 'dt': 1665459478,\n",
       " 'sys': {'type': 2,\n",
       "  'id': 2075535,\n",
       "  'country': 'GB',\n",
       "  'sunrise': 1665469033,\n",
       "  'sunset': 1665508622},\n",
       " 'timezone': 3600,\n",
       " 'id': 2643743,\n",
       " 'name': 'London',\n",
       " 'cod': 200}"
      ]
     },
     "execution_count": 100,
     "metadata": {},
     "output_type": "execute_result"
    }
   ],
   "source": [
    "# testing response and looking at response format\n",
    "\n",
    "url = f'http://api.openweathermap.org/data/2.5/weather?appid={weather_api_key}&q='\n",
    "\n",
    "city = 'London'\n",
    "response = requests.get(url + city).json()\n",
    "response"
   ]
  },
  {
   "cell_type": "markdown",
   "metadata": {},
   "source": [
    "### Perform API Calls\n",
    "* Perform a weather check on each city using a series of successive API calls.\n",
    "* Include a print log of each city as it'sbeing processed (with the city number and city name).\n"
   ]
  },
  {
   "cell_type": "code",
   "execution_count": 31,
   "metadata": {
    "scrolled": true
   },
   "outputs": [
    {
     "name": "stdout",
     "output_type": "stream",
     "text": [
      "City not found\n",
      "Processing 1636308: Manokwari\n",
      "Processing 5866583: Saint Paul Harbor\n",
      "Processing 1182872: Bhag\n",
      "Processing 3386213: Touros\n",
      "Processing 3366880: Hermanus\n",
      "Processing 3421719: Narsaq\n",
      "Processing 2206939: Bluff\n",
      "Processing 5106841: Albany\n",
      "Processing 3489440: Morant Bay\n",
      "Processing 964432: Port Alfred\n",
      "Processing 3517970: Pochutla\n",
      "Processing 1507390: Dikson\n",
      "Processing 527321: Mezen'\n",
      "Processing 2063036: Port Lincoln\n",
      "Processing 2270385: Camacha\n",
      "Processing 2013639: Verkhnevilyuysk\n",
      "Processing 350203: Rosetta\n",
      "Processing 3369157: Cape Town\n",
      "Processing 1735799: Sri Aman\n",
      "Processing 3833367: Ushuaia\n",
      "Processing 6201424: Mataura\n",
      "Processing 4032243: Vaini\n",
      "Processing 2027044: Batagay\n",
      "Processing 3874787: Punta Arenas\n",
      "Processing 6089245: Norman Wells\n",
      "Processing 1735106: George Town\n",
      "Processing 1282256: Hithadhoo\n",
      "Processing 3531865: Cadereyta\n",
      "Processing 4362001: Mayo\n",
      "Processing 5969025: Haines Junction\n",
      "Processing 3382160: Cayenne\n",
      "Processing 1062663: Mahajanga\n",
      "Processing 1487939: Uvat\n",
      "Processing 2173911: Broken Hill\n",
      "Processing 1685422: Sulangan\n",
      "Processing 1649150: Bengkulu\n",
      "Processing 5924351: Clyde River\n",
      "Processing 2171099: Codrington\n",
      "Processing 4030556: Rikitea\n",
      "Processing 358620: Safaga\n",
      "Processing 6170031: Tuktoyaktuk\n",
      "Processing 5557293: Sitka\n",
      "Processing 80509: Al Bardīyah\n",
      "Processing 5880054: Barrow\n",
      "Processing 3056683: Vrútky\n",
      "Processing 5762718: Belle Fourche\n",
      "Processing 2163355: Hobart\n",
      "Processing 3430863: Mar del Plata\n",
      "Processing 1528998: Yumen\n",
      "Processing 2123814: Leningradskiy\n",
      "Processing 3860443: Comodoro Rivadavia\n",
      "Processing 1235846: Matara\n",
      "Processing 3380290: Sinnamary\n",
      "Processing 6149996: Smithers\n",
      "Processing 935215: Saint-Philippe\n",
      "Processing 3921355: Challapata\n",
      "Processing 1267390: Kavaratti\n",
      "Processing 4031637: Lavrentiya\n",
      "City not found\n",
      "Processing 933995: Souillac\n",
      "Processing 1650600: Balaipungut\n",
      "Processing 2074865: Carnarvon\n",
      "Processing 4499379: Wilmington\n",
      "Processing 2032201: Bulgan\n",
      "Processing 1805408: Jinsha\n",
      "Processing 3418910: Upernavik\n",
      "Processing 3461370: Imbituba\n",
      "Processing 1504382: Kargasok\n",
      "Processing 6185377: Yellowknife\n",
      "Processing 1637001: Luwuk\n",
      "Processing 2162662: Inverell\n",
      "City not found\n",
      "Processing 2276492: Harper\n",
      "Processing 6111862: Port Hardy\n",
      "Processing 2015306: Tiksi\n",
      "Processing 2075265: Busselton\n",
      "Processing 53157: Qandala\n",
      "Processing 5855927: Hilo\n",
      "Processing 372884: Kapoeta\n",
      "Processing 1263622: Mānsa\n",
      "Processing 204953: Tshikapa\n",
      "Processing 546105: Nikolskoye\n",
      "Processing 2017155: Saskylakh\n",
      "Processing 1819729: Hong Kong\n",
      "Processing 1056899: Sambava\n",
      "Processing 1256814: Sedam\n",
      "Processing 3981483: Tlacote el Bajo\n",
      "Processing 3466950: Carinhanha\n",
      "City not found\n",
      "Processing 3423146: Ilulissat\n",
      "Processing 3663503: Manicoré\n",
      "Processing 964420: Port Elizabeth\n",
      "Processing 5282297: Bethel\n",
      "Processing 5122534: Jamestown\n",
      "Processing 4020109: Atuona\n",
      "City not found\n",
      "Processing 5364271: Laguna\n",
      "Processing 6165406: Thompson\n",
      "Processing 2071860: Esperance\n",
      "Processing 2208248: Kaitangata\n",
      "Processing 1259184: Puri\n",
      "City not found\n",
      "Processing 2654970: Brae\n",
      "Processing 2242885: Camabatela\n",
      "Processing 2092164: Lorengau\n",
      "City not found\n",
      "Processing 1152472: Lampang\n",
      "Processing 3354876: Okakarara\n",
      "Processing 2025256: Chumikan\n",
      "Processing 2121385: Severo-Kuril'sk\n",
      "Processing 3420768: Qasigiannguit\n",
      "City not found\n",
      "Processing 2092740: Lae\n",
      "Processing 4034188: Moerai\n",
      "Processing 2082539: Merauke\n",
      "Processing 2255304: Sémbé\n",
      "Processing 2214432: Nālūt\n",
      "Processing 189367: Litein\n",
      "City not found\n",
      "Processing 1797117: Rongcheng\n",
      "Processing 3893629: Coquimbo\n",
      "Processing 2514651: Los Llanos de Aridane\n",
      "Processing 1502257: Kozhevnikovo\n",
      "Processing 779622: Havøysund\n",
      "Processing 703325: Lazi\n",
      "City not found\n",
      "Processing 1489853: Tazovsky\n",
      "Processing 962367: Richards Bay\n",
      "Processing 569295: Cherëmukhovo\n",
      "Processing 5848280: Kapaa\n",
      "Processing 2137773: Vao\n",
      "Processing 3526756: Isla Mujeres\n",
      "Processing 780687: Berlevåg\n",
      "Processing 2450849: Sokolo\n",
      "Processing 2065594: Mount Isa\n",
      "Processing 3985710: Cabo San Lucas\n",
      "Processing 3424607: Tasiilaq\n",
      "Processing 2654332: Buncrana\n",
      "Processing 3628473: San Cristobal\n",
      "Processing 3421765: Nanortalik\n",
      "Processing 3466165: Cidreira\n",
      "Processing 2172797: Cairns\n",
      "Processing 2396518: Port-Gentil\n",
      "Processing 1015776: Bredasdorp\n",
      "Processing 1150965: Ranong\n",
      "Processing 64814: Bandarbeyla\n",
      "Processing 686090: Asău\n",
      "City not found\n",
      "Processing 1490918: Staryy Nadym\n",
      "Processing 2140558: Koumac\n",
      "Processing 1651103: Atambua\n",
      "Processing 3471451: Arraial do Cabo\n",
      "Processing 2729907: Longyearbyen\n",
      "Processing 3899695: Ancud\n",
      "Processing 1502422: Kosh-Agach\n",
      "Processing 2155415: New Norfolk\n",
      "Processing 2194098: Ahipara\n",
      "Processing 2274895: Monrovia\n",
      "Processing 3386931: Tamandaré\n",
      "Processing 2110227: Butaritari\n",
      "Processing 3443061: Chui\n",
      "Processing 1650064: Barabai\n",
      "Processing 5463237: Corrales\n",
      "Processing 4333811: Morgan City\n",
      "Processing 3377301: Mabaruma\n",
      "Processing 1106677: Bambous Virieux\n",
      "City not found\n",
      "Processing 2077895: Alice Springs\n",
      "Processing 6355222: Yulara\n",
      "Processing 5367788: Lompoc\n",
      "Processing 2126710: Beringovskiy\n",
      "Processing 3576994: Cockburn Town\n",
      "Processing 2022572: Khatanga\n",
      "Processing 2126682: Bilibino\n",
      "Processing 3405304: Bom Jesus\n",
      "Processing 7330663: Shama\n",
      "Processing 902620: Mwinilunga\n",
      "Processing 2450173: Taoudenni\n",
      "Processing 1576633: Lang Son\n",
      "Processing 3883457: Lebu\n",
      "Processing 5134295: Rome\n",
      "Processing 107304: Buraidah\n",
      "Processing 4035715: Avarua\n",
      "Processing 3652764: Puerto Ayora\n",
      "Processing 3347019: Mossamedes\n",
      "Processing 2122090: Pevek\n",
      "Processing 2028462: Ulaanbaatar\n",
      "Processing 1786657: Yinchuan\n",
      "Processing 1861416: Ishigaki\n",
      "Processing 2264557: Ponta do Sol\n",
      "Processing 3430443: Necochea\n",
      "Processing 2630299: Hofn\n",
      "Processing 2456917: Goundam\n",
      "Processing 2126123: Chokurdakh\n",
      "Processing 4721703: Raymondville\n",
      "Processing 3839307: Rawson\n",
      "Processing 2012593: Zeya\n",
      "Processing 3359638: Walvis Bay\n",
      "Processing 5392593: San Ramon\n",
      "Processing 1106643: Quatre Cocos\n",
      "Processing 3466704: Castro\n",
      "Processing 5882953: Aklavik\n",
      "Processing 1503061: Kochki\n",
      "Processing 1651810: Airai\n",
      "Processing 1786770: Yibin\n",
      "Processing 863061: Usinsk\n",
      "Processing 4265737: Terre Haute\n",
      "Processing 1058080: Nosy Varika\n",
      "Processing 2445704: Diffa\n",
      "Processing 3899361: Arica\n",
      "Processing 3420846: Qaqortoq\n",
      "Processing 4034551: Faanui\n",
      "Processing 2177069: Ballina\n",
      "Processing 4013724: Camargo\n",
      "Processing 1636426: Manggar\n",
      "Processing 3587498: Acajutla\n",
      "Processing 1611635: Betong\n",
      "Processing 1053384: Toamasina\n",
      "Processing 4726521: San Patricio\n",
      "Processing 3932145: Pisco\n",
      "Processing 2035002: Shangzhi\n",
      "Processing 651980: Kokemäki\n",
      "Processing 2013727: Vanavara\n",
      "Processing 2654710: Brighton\n",
      "Processing 1337617: Muli\n",
      "Processing 2414544: Tougue\n",
      "Processing 3385935: Tucuruí\n",
      "Processing 2112802: Hasaki\n",
      "Processing 3355672: Lüderitz\n",
      "Processing 3402648: Carutapera\n",
      "Processing 4231997: Avera\n",
      "Processing 898947: Senanga\n",
      "Processing 3374210: São Filipe\n",
      "Processing 2112309: Katsuura\n",
      "City not found\n",
      "Processing 5690366: Mandan\n",
      "City not found\n",
      "Processing 2109528: Buala\n",
      "Processing 3901969: Urubichá\n",
      "Processing 3428068: San Vicente\n",
      "City not found\n",
      "Processing 3141667: Roald\n",
      "Processing 5919850: Chapais\n",
      "Processing 2152659: Port Macquarie\n",
      "Processing 5563839: Fortuna\n",
      "Processing 1529484: Kumul\n",
      "Processing 3454005: Piaçabuçu\n",
      "Processing 1848976: Wajima\n",
      "Processing 7281807: Seddon\n",
      "Processing 2667628: Tranås\n",
      "Processing 157429: Kilindoni\n",
      "Processing 3440777: Rocha\n",
      "Processing 5411479: Alamosa\n",
      "Processing 3388456: São José da Coroa Grande\n",
      "Processing 2120048: Ust-Nera\n",
      "Processing 110690: Faya\n",
      "Processing 2017658: Preobrazheniye\n",
      "Processing 2063523: Perth\n",
      "Processing 1215502: Banda Aceh\n",
      "Processing 2181625: Te Anau\n",
      "Processing 3435910: Buenos Aires\n",
      "Processing 2460954: Araouane\n",
      "Processing 1505579: Inta\n",
      "Processing 777019: Vardø\n",
      "Processing 2315728: Gemena\n",
      "Processing 3392018: Pio XII\n",
      "Processing 2229411: Limbe\n",
      "Processing 935214: Saint-Pierre\n",
      "Processing 4946620: Palmer\n",
      "Processing 2168305: Dubbo\n",
      "Processing 3372707: Ribeira Grande\n",
      "Processing 3146487: Raudeberg\n",
      "Processing 515879: Oktyabr'skiy\n",
      "Processing 5261969: Marshfield\n",
      "Processing 2316259: Bulungu\n",
      "Processing 3361934: Saldanha\n",
      "Processing 895953: Zambezi\n",
      "Processing 5887916: Athabasca\n",
      "City not found\n",
      "Processing 5380437: Pacific Grove\n",
      "Processing 2294877: Tamale\n",
      "Processing 2136825: Isangel\n",
      "Processing 3671437: Caucayá\n",
      "Processing 1705441: Lubao\n",
      "Processing 1309937: Pyn U Lwin\n",
      "City not found\n",
      "Processing 4031742: Egvekinot\n",
      "Processing 152042: Naberera\n",
      "Processing 2093967: Kimbe\n",
      "Processing 7117100: Vila\n",
      "Processing 3372760: Praia da Vitória\n",
      "Processing 3981432: Todos Santos\n",
      "Processing 5983720: Iqaluit\n",
      "Processing 3837056: San Luis\n",
      "Processing 3412093: Vestmannaeyjar\n",
      "Processing 5546220: Saint George\n",
      "Processing 3356832: Henties Bay\n",
      "Processing 3356264: Keetmanshoop\n",
      "Processing 3991622: Talpa\n",
      "Processing 2019488: Namtsy\n",
      "Processing 3894426: Coyhaique\n",
      "Processing 4004293: Ixtapa\n",
      "Processing 1252783: Yārāda\n",
      "Processing 1242110: Kalmunai\n",
      "Processing 3840092: Puerto Madryn\n",
      "City not found\n",
      "Processing 2191562: Dunedin\n",
      "Processing 777682: Skjervøy\n",
      "Processing 544370: Koryazhma\n",
      "Processing 964406: Port Shepstone\n",
      "Processing 359783: Assiut\n",
      "Processing 986717: Kruisfontein\n",
      "Processing 2014718: Tynda\n",
      "Processing 1523662: Kachīry\n",
      "Processing 6167817: Torbay\n",
      "Processing 3625710: Upata\n",
      "Processing 2127202: Anadyr\n",
      "Processing 5905616: Bonnyville\n",
      "Processing 934649: Cap Malheureux\n",
      "Processing 705809: Kirovsk\n",
      "Processing 2132606: Samarai\n",
      "Processing 3662155: Sena Madureira\n",
      "Processing 3832899: Viedma\n",
      "Processing 5916821: Cardston\n",
      "Processing 5861897: Fairbanks\n",
      "Processing 53654: Mogadishu\n",
      "Processing 6148373: Sioux Lookout\n",
      "Processing 5830007: Lander\n",
      "Processing 4513583: Hamilton\n",
      "Processing 1006984: East London\n",
      "Processing 1525988: Ayagoz\n",
      "Processing 4033557: Tautira\n",
      "Processing 2930889: Ellwangen\n",
      "Processing 1855342: Nishihara\n",
      "Processing 3461789: Guarujá\n",
      "Processing 2381334: Atar\n",
      "Processing 4036284: Alofi\n",
      "Processing 315639: Emet\n",
      "Processing 5520552: Dumas\n",
      "City not found\n",
      "Processing 211647: Lodja\n",
      "City not found\n",
      "Processing 1250161: Batticaloa\n",
      "Processing 6255012: Flinders\n",
      "Processing 3444201: Puerto Quijarro\n",
      "City not found\n",
      "Processing 1623197: Tual\n",
      "Processing 1510689: Baykit\n",
      "Processing 3439525: Young\n",
      "Processing 2013459: Verkh-Usugli\n",
      "Processing 3652758: Puerto Baquerizo Moreno\n",
      "Processing 2112444: Kamaishi\n",
      "Processing 72181: Marzuq\n",
      "Processing 3991347: Puerto Peñasco\n",
      "Processing 2122493: Omsukchan\n",
      "Processing 1633419: Padang\n",
      "City not found\n",
      "Processing 1528121: Karakol\n",
      "Processing 2070998: Geraldton\n",
      "Processing 95788: Hīt\n",
      "Processing 1283368: Gulariyā\n",
      "Processing 1852357: Shimoda\n",
      "Processing 372753: Kassala\n",
      "City not found\n",
      "City not found\n",
      "Processing 3831208: Qaanaaq\n",
      "Processing 2388036: Bossangoa\n",
      "City not found\n",
      "Processing 1283628: Bhadrapur\n",
      "Processing 5742974: North Bend\n",
      "Processing 108410: Riyadh\n",
      "Processing 3115824: Muros\n",
      "City not found\n",
      "Processing 490437: Sosenskiy\n",
      "Processing 1259385: Port Blair\n",
      "Processing 5859699: College\n",
      "Processing 2175403: Blackwater\n",
      "Processing 5905348: Bon Accord\n",
      "Processing 3835869: Santiago del Estero\n",
      "Processing 3470837: Barbosa Ferraz\n",
      "Processing 1263752: Māngrol\n",
      "Processing 1079048: Ambovombe\n",
      "Processing 2019935: Mnogovershinnyy\n",
      "Processing 286621: Salalah\n",
      "Processing 2031964: Darhan\n",
      "Processing 6173864: Vernon\n",
      "City not found\n",
      "Processing 2126199: Cherskiy\n",
      "Processing 1520240: Pavlodar\n",
      "Processing 3391571: Pombal\n",
      "City not found\n",
      "Processing 219057: Beni\n",
      "Processing 1283285: Jumla\n",
      "Processing 3939761: Hualmay\n",
      "Processing 2136697: Lakatoro\n",
      "Processing 6050194: La Sarre\n",
      "Processing 3387423: Sítio Novo do Tocantins\n",
      "Processing 3893726: Constitución\n",
      "Processing 3604270: Ojojona\n",
      "Processing 3868626: Valparaíso\n",
      "Processing 3984997: San Quintín\n",
      "Processing 4562996: Cabo Rojo\n",
      "Processing 2347758: Bara\n",
      "Processing 2121025: Srednekolymsk\n",
      "Processing 5937073: Deep River\n",
      "Processing 3424901: Aasiaat\n",
      "Processing 1636544: Manado\n",
      "Processing 3421319: Nuuk\n",
      "Processing 1651531: Ambon City\n",
      "Processing 1277634: Balarāmpur\n",
      "Processing 2037252: Genhe\n",
      "Processing 3416888: Grindavik\n",
      "Processing 945945: Upington\n",
      "City not found\n",
      "Processing 1067565: Beloha\n",
      "City not found\n",
      "Processing 3697838: Contamana\n",
      "Processing 1495626: Pangody\n",
      "Processing 3664078: Humaitá\n",
      "Processing 87205: Darnah\n",
      "Processing 5392171: San Jose\n",
      "Processing 103630: Najrān\n",
      "Processing 6144312: Sept-Îles\n",
      "Processing 1708485: Kulaman\n",
      "City not found\n",
      "Processing 212360: Kongolo\n",
      "Processing 6943832: Riviere-au-Renard\n",
      "Processing 1804430: Lanzhou\n",
      "Processing 3664321: Eirunepé\n",
      "City not found\n",
      "Processing 1272864: Dhārchula\n",
      "Processing 2172880: Byron Bay\n",
      "City not found\n",
      "Processing 2449893: Tessalit\n",
      "Processing 359792: Aswān\n",
      "Processing 6180550: Whitehorse\n",
      "Processing 464790: Zapolyarnyy\n",
      "Processing 1789289: Dayong\n",
      "City not found\n",
      "Processing 2629833: Husavik\n",
      "Processing 3430340: Oberá\n",
      "Processing 2269142: Colares\n",
      "Processing 1142226: Dawlatabad\n",
      "Processing 2013865: Ust'-Uda\n",
      "Processing 1254046: Tura\n",
      "Processing 544397: Kortkeros\n",
      "Processing 4048023: Bessemer\n",
      "Processing 2138555: Poum\n",
      "Processing 5866063: Kenai\n",
      "Processing 1244926: Hambantota\n",
      "Processing 2216432: Jadu\n",
      "City not found\n",
      "Processing 5059430: Grand Forks\n",
      "City not found\n",
      "Processing 1214488: Meulaboh\n",
      "Processing 3081752: Władysławowo\n",
      "Processing 1735106: George Town\n",
      "Processing 2090021: Namatanai\n",
      "Processing 3176217: Provincia di Genova\n",
      "Processing 2128975: Nemuro\n",
      "Processing 3194183: Ogulin\n",
      "Processing 1215350: Bireun\n",
      "Processing 698770: Ochakiv\n",
      "Processing 3403687: Camocim\n",
      "Processing 3117164: Mataró\n",
      "Processing 3374083: Bathsheba\n",
      "Processing 3692020: Saquena\n",
      "Processing 2428231: Massaguet\n",
      "Processing 3159954: Brønnøysund\n",
      "Processing 1280037: Shache\n",
      "Processing 2028164: Deputatsky\n",
      "Processing 2544571: Kenitra\n",
      "City not found\n",
      "Processing 1815656: Changli\n",
      "Processing 5919815: Channel-Port aux Basques\n",
      "Processing 3163198: Åmot\n",
      "Processing 3397963: Itamaracá\n",
      "Processing 3974771: Praxédis Guerrero\n",
      "Processing 4031574: Provideniya\n",
      "Processing 6620339: Karratha\n",
      "Processing 5970234: Hanna\n",
      "Processing 1013550: Christiana\n",
      "Processing 3520994: Puerto Escondido\n",
      "Processing 2541479: Nador\n",
      "Processing 572525: Borisoglebsk\n",
      "Processing 764749: Milanówek\n",
      "Processing 5847411: Kahului\n",
      "Processing 2396853: Omboué\n",
      "Processing 2156643: Mount Gambier\n",
      "Processing 3703443: Panama City\n",
      "Processing 3395981: Maceió\n",
      "Processing 49747: Oddur\n",
      "Processing 1496511: Novy Urengoy\n",
      "Processing 5850554: Makakilo City\n",
      "Processing 1529102: Ürümqi\n",
      "Processing 5655240: Great Falls\n",
      "Processing 2442248: Kollo\n",
      "City not found\n",
      "Processing 1714733: Dingle\n",
      "Processing 4616470: Crossville\n",
      "Processing 286245: Sur\n",
      "Processing 1636022: Martapura\n",
      "Processing 1856392: Muroto-misakicho\n",
      "Processing 1732826: Mersing\n",
      "Processing 2699310: Kristianstad\n",
      "Processing 4021858: Guerrero Negro\n",
      "City not found\n",
      "City not found\n",
      "City not found\n",
      "Processing 2653755: Carmarthen\n",
      "Processing 2377457: Nouadhibou\n",
      "Processing 2412408: Nioro\n",
      "Processing 2331447: Maiduguri\n",
      "Processing 3372964: Lagoa\n",
      "Processing 1568574: Qui Nhon\n",
      "Processing 4026082: Lázaro Cárdenas\n",
      "Processing 2290849: Bouna\n",
      "Processing 6453316: Tromsø\n",
      "Processing 2315026: Kasongo-Lunda\n",
      "Processing 1071296: Antalaha\n",
      "Processing 2012938: Yerofey Pavlovich\n",
      "Processing 496278: Severomorsk\n",
      "Processing 2190299: Hanmer Springs\n",
      "Processing 548715: Kilemary\n",
      "Processing 475469: Verkhnetulomskiy\n",
      "Processing 1835848: Seoul\n",
      "Processing 3939168: Huarmey\n",
      "Processing 2980080: Saint-François\n",
      "City not found\n",
      "Processing 1507116: Dudinka\n",
      "Processing 515246: Onega\n",
      "Processing 2392087: Porto-Novo\n",
      "Processing 637219: Seinäjoki\n",
      "City not found\n",
      "Processing 2013952: Ust'-Ilimsk\n",
      "Processing 3137469: Sørland\n",
      "Processing 1490256: Talnakh\n",
      "Processing 3901903: Uyuni\n",
      "Processing 3445026: Vila Velha\n",
      "City not found\n",
      "Processing 2618795: Klaksvík\n",
      "Processing 1712961: Gigmoto\n",
      "Processing 1695180: Simbahan\n",
      "Processing 6168326: Trail\n",
      "Processing 1218612: Murgab\n",
      "Processing 3861344: Chivilcoy\n",
      "Processing 2206874: Waipawa\n",
      "Processing 3430708: Mercedes\n",
      "Processing 1515029: Ulaangom\n",
      "Processing 3573374: The Valley\n",
      "Processing 5895424: Bay Roberts\n",
      "Processing 3403395: Cândido Mendes\n",
      "Processing 212730: Kisangani\n",
      "Processing 2036075: Lingyuan\n",
      "Processing 2317765: Zaria\n",
      "Processing 2553604: Casablanca\n",
      "Processing 1508260: Novobirilyussy\n",
      "Processing 1152188: Mae Sot\n",
      "Processing 1684245: Tagusao\n",
      "Processing 1649593: Baturaja\n",
      "Processing 934479: Grand Gaube\n",
      "Processing 7671223: Kloulklubed\n",
      "Processing 2960869: Youghal\n",
      "Processing 2138285: Tadine\n",
      "Processing 187725: Maralal\n",
      "Processing 2018735: Nyurba\n",
      "Processing 792680: Belgrade\n",
      "Processing 6138987: Saint-Rémi\n",
      "Processing 2027042: Batagay-Alyta\n",
      "Processing 638936: Rovaniemi\n",
      "Processing 922741: Likasi\n",
      "Processing 3465228: Coxim\n",
      "Processing 537147: Lakhdenpokh'ya\n",
      "Processing 1272842: Dharmavaram\n",
      "Processing 496285: Severodvinsk\n",
      "Processing 876177: Luau\n",
      "Processing 556268: Ostrovnoy\n",
      "Processing 170062: Aleppo Governorate\n",
      "City not found\n",
      "Processing 3372472: Vila Franca do Campo\n",
      "Processing 1058381: Morondava\n",
      "Processing 3665199: Ariquemes\n",
      "Processing 2738381: Lata\n",
      "Processing 3629614: Punta Cardon\n",
      "Processing 2413419: Gunjur\n",
      "Processing 1503037: Kodinsk\n",
      "Processing 4735729: Taylor\n",
      "Processing 3839982: Punta Alta\n"
     ]
    }
   ],
   "source": [
    "city_name = []\n",
    "lat = []\n",
    "lng = []\n",
    "max_temp = []\n",
    "humidity = []\n",
    "cloudiness = []\n",
    "wind_speed = []\n",
    "\n",
    "for city in cities:\n",
    "    try:\n",
    "        response = requests.get(url + city).json()\n",
    "        print(f'Processing {response[\"id\"]}: {response[\"name\"]}')\n",
    "        city_name.append(response['name'])\n",
    "        lat.append(response['coord']['lat'])\n",
    "        lng.append(response['coord']['lon'])\n",
    "        max_temp.append(response['main']['temp_max'])\n",
    "        humidity.append(response['main']['humidity'])\n",
    "        cloudiness.append(response['clouds']['all'])\n",
    "        wind_speed.append(response['wind']['speed'])\n",
    "    except:\n",
    "        print('City not found')"
   ]
  },
  {
   "cell_type": "markdown",
   "metadata": {
    "tags": []
   },
   "source": [
    "### Convert Raw Data to DataFrame\n",
    "* Export the city data into a .csv.\n",
    "* Display the DataFrame"
   ]
  },
  {
   "cell_type": "code",
   "execution_count": 106,
   "metadata": {},
   "outputs": [
    {
     "data": {
      "text/html": [
       "<div>\n",
       "<style scoped>\n",
       "    .dataframe tbody tr th:only-of-type {\n",
       "        vertical-align: middle;\n",
       "    }\n",
       "\n",
       "    .dataframe tbody tr th {\n",
       "        vertical-align: top;\n",
       "    }\n",
       "\n",
       "    .dataframe thead th {\n",
       "        text-align: right;\n",
       "    }\n",
       "</style>\n",
       "<table border=\"1\" class=\"dataframe\">\n",
       "  <thead>\n",
       "    <tr style=\"text-align: right;\">\n",
       "      <th></th>\n",
       "      <th>City</th>\n",
       "      <th>Latitude</th>\n",
       "      <th>Longitude</th>\n",
       "      <th>Temperature</th>\n",
       "      <th>% Humidity</th>\n",
       "      <th>% Cloudiness</th>\n",
       "      <th>Wind Speed</th>\n",
       "    </tr>\n",
       "  </thead>\n",
       "  <tbody>\n",
       "    <tr>\n",
       "      <th>0</th>\n",
       "      <td>Manokwari</td>\n",
       "      <td>-0.8667</td>\n",
       "      <td>134.0833</td>\n",
       "      <td>299.35</td>\n",
       "      <td>75</td>\n",
       "      <td>100</td>\n",
       "      <td>1.07</td>\n",
       "    </tr>\n",
       "    <tr>\n",
       "      <th>1</th>\n",
       "      <td>Saint Paul Harbor</td>\n",
       "      <td>57.7900</td>\n",
       "      <td>-152.4072</td>\n",
       "      <td>285.88</td>\n",
       "      <td>67</td>\n",
       "      <td>20</td>\n",
       "      <td>7.72</td>\n",
       "    </tr>\n",
       "    <tr>\n",
       "      <th>2</th>\n",
       "      <td>Bhag</td>\n",
       "      <td>29.0415</td>\n",
       "      <td>67.8239</td>\n",
       "      <td>302.17</td>\n",
       "      <td>20</td>\n",
       "      <td>0</td>\n",
       "      <td>1.91</td>\n",
       "    </tr>\n",
       "    <tr>\n",
       "      <th>3</th>\n",
       "      <td>Touros</td>\n",
       "      <td>-5.1989</td>\n",
       "      <td>-35.4608</td>\n",
       "      <td>299.55</td>\n",
       "      <td>76</td>\n",
       "      <td>8</td>\n",
       "      <td>6.95</td>\n",
       "    </tr>\n",
       "    <tr>\n",
       "      <th>4</th>\n",
       "      <td>Hermanus</td>\n",
       "      <td>-34.4187</td>\n",
       "      <td>19.2345</td>\n",
       "      <td>295.26</td>\n",
       "      <td>56</td>\n",
       "      <td>100</td>\n",
       "      <td>2.81</td>\n",
       "    </tr>\n",
       "    <tr>\n",
       "      <th>...</th>\n",
       "      <td>...</td>\n",
       "      <td>...</td>\n",
       "      <td>...</td>\n",
       "      <td>...</td>\n",
       "      <td>...</td>\n",
       "      <td>...</td>\n",
       "      <td>...</td>\n",
       "    </tr>\n",
       "    <tr>\n",
       "      <th>539</th>\n",
       "      <td>Punta Cardon</td>\n",
       "      <td>11.6581</td>\n",
       "      <td>-70.2150</td>\n",
       "      <td>303.18</td>\n",
       "      <td>67</td>\n",
       "      <td>12</td>\n",
       "      <td>10.80</td>\n",
       "    </tr>\n",
       "    <tr>\n",
       "      <th>540</th>\n",
       "      <td>Gunjur</td>\n",
       "      <td>13.2019</td>\n",
       "      <td>-16.7339</td>\n",
       "      <td>300.19</td>\n",
       "      <td>83</td>\n",
       "      <td>20</td>\n",
       "      <td>0.00</td>\n",
       "    </tr>\n",
       "    <tr>\n",
       "      <th>541</th>\n",
       "      <td>Kodinsk</td>\n",
       "      <td>58.6881</td>\n",
       "      <td>99.1844</td>\n",
       "      <td>278.54</td>\n",
       "      <td>90</td>\n",
       "      <td>96</td>\n",
       "      <td>2.70</td>\n",
       "    </tr>\n",
       "    <tr>\n",
       "      <th>542</th>\n",
       "      <td>Taylor</td>\n",
       "      <td>32.3001</td>\n",
       "      <td>-99.8337</td>\n",
       "      <td>296.85</td>\n",
       "      <td>64</td>\n",
       "      <td>100</td>\n",
       "      <td>2.57</td>\n",
       "    </tr>\n",
       "    <tr>\n",
       "      <th>543</th>\n",
       "      <td>Punta Alta</td>\n",
       "      <td>-38.8759</td>\n",
       "      <td>-62.0736</td>\n",
       "      <td>292.63</td>\n",
       "      <td>34</td>\n",
       "      <td>5</td>\n",
       "      <td>2.90</td>\n",
       "    </tr>\n",
       "  </tbody>\n",
       "</table>\n",
       "<p>544 rows × 7 columns</p>\n",
       "</div>"
      ],
      "text/plain": [
       "                  City  Latitude  Longitude  Temperature  % Humidity  \\\n",
       "0            Manokwari   -0.8667   134.0833       299.35          75   \n",
       "1    Saint Paul Harbor   57.7900  -152.4072       285.88          67   \n",
       "2                 Bhag   29.0415    67.8239       302.17          20   \n",
       "3               Touros   -5.1989   -35.4608       299.55          76   \n",
       "4             Hermanus  -34.4187    19.2345       295.26          56   \n",
       "..                 ...       ...        ...          ...         ...   \n",
       "539       Punta Cardon   11.6581   -70.2150       303.18          67   \n",
       "540             Gunjur   13.2019   -16.7339       300.19          83   \n",
       "541            Kodinsk   58.6881    99.1844       278.54          90   \n",
       "542             Taylor   32.3001   -99.8337       296.85          64   \n",
       "543         Punta Alta  -38.8759   -62.0736       292.63          34   \n",
       "\n",
       "     % Cloudiness  Wind Speed  \n",
       "0             100        1.07  \n",
       "1              20        7.72  \n",
       "2               0        1.91  \n",
       "3               8        6.95  \n",
       "4             100        2.81  \n",
       "..            ...         ...  \n",
       "539            12       10.80  \n",
       "540            20        0.00  \n",
       "541            96        2.70  \n",
       "542           100        2.57  \n",
       "543             5        2.90  \n",
       "\n",
       "[544 rows x 7 columns]"
      ]
     },
     "execution_count": 106,
     "metadata": {},
     "output_type": "execute_result"
    }
   ],
   "source": [
    "data = {\n",
    "    'City': city_name,\n",
    "    'Latitude': lat,\n",
    "    'Longitude': lng,\n",
    "    'Temperature': max_temp,\n",
    "    '% Humidity': humidity,\n",
    "    '% Cloudiness': cloudiness,\n",
    "    'Wind Speed': wind_speed\n",
    "}\n",
    "weather_df = pd.DataFrame(data)\n",
    "weather_df"
   ]
  },
  {
   "cell_type": "code",
   "execution_count": 56,
   "metadata": {},
   "outputs": [],
   "source": [
    "weather_df.to_csv('../output_data/weather_data.csv', encoding='utf-8', index=False)"
   ]
  },
  {
   "cell_type": "markdown",
   "metadata": {},
   "source": [
    "## Inspect the data and remove the cities where the humidity > 100%.\n",
    "----\n",
    "Skip this step if there are no cities that have humidity > 100%. "
   ]
  },
  {
   "cell_type": "code",
   "execution_count": 44,
   "metadata": {},
   "outputs": [
    {
     "data": {
      "text/html": [
       "<div>\n",
       "<style scoped>\n",
       "    .dataframe tbody tr th:only-of-type {\n",
       "        vertical-align: middle;\n",
       "    }\n",
       "\n",
       "    .dataframe tbody tr th {\n",
       "        vertical-align: top;\n",
       "    }\n",
       "\n",
       "    .dataframe thead th {\n",
       "        text-align: right;\n",
       "    }\n",
       "</style>\n",
       "<table border=\"1\" class=\"dataframe\">\n",
       "  <thead>\n",
       "    <tr style=\"text-align: right;\">\n",
       "      <th></th>\n",
       "      <th>City</th>\n",
       "      <th>Latitude</th>\n",
       "      <th>Longitude</th>\n",
       "      <th>Temperature</th>\n",
       "      <th>% Humidity</th>\n",
       "      <th>% Cloudiness</th>\n",
       "      <th>Wind Speed</th>\n",
       "    </tr>\n",
       "  </thead>\n",
       "  <tbody>\n",
       "  </tbody>\n",
       "</table>\n",
       "</div>"
      ],
      "text/plain": [
       "Empty DataFrame\n",
       "Columns: [City, Latitude, Longitude, Temperature, % Humidity, % Cloudiness, Wind Speed]\n",
       "Index: []"
      ]
     },
     "execution_count": 44,
     "metadata": {},
     "output_type": "execute_result"
    }
   ],
   "source": [
    "x = weather_df[weather_df['% Humidity'] > 100]\n",
    "x\n",
    "\n",
    "# I found that there are no rows where the humidity is greater than 100% by running this"
   ]
  },
  {
   "cell_type": "code",
   "execution_count": null,
   "metadata": {},
   "outputs": [],
   "source": [
    "#  Get the indices of cities that have humidity over 100%.\n"
   ]
  },
  {
   "cell_type": "code",
   "execution_count": null,
   "metadata": {},
   "outputs": [],
   "source": [
    "# Make a new DataFrame equal to the city data to drop all humidity outliers by index.\n",
    "# Passing \"inplace=False\" will make a copy of the city_data DataFrame, which we call \"clean_city_data\"."
   ]
  },
  {
   "cell_type": "markdown",
   "metadata": {},
   "source": [
    "## Plotting the Data\n",
    "* Use proper labeling of the plots using plot titles (including date of analysis) and axes labels.\n",
    "* Save the plotted figures as .pngs."
   ]
  },
  {
   "cell_type": "markdown",
   "metadata": {},
   "source": [
    "## Latitude vs. Temperature Plot"
   ]
  },
  {
   "cell_type": "code",
   "execution_count": 57,
   "metadata": {
    "scrolled": true
   },
   "outputs": [
    {
     "data": {
      "image/png": "[encoded data removed]",
      "text/plain": [
       "<Figure size 432x288 with 1 Axes>"
      ]
     },
     "metadata": {
      "needs_background": "light"
     },
     "output_type": "display_data"
    }
   ],
   "source": [
    "plt.scatter(weather_df[\"Latitude\"], weather_df[\"Temperature\"], marker=\"o\")\n",
    "\n",
    "plt.title(\"Max Temperature by City Latitude (10/10/22)\")\n",
    "plt.ylabel(\"Temperature\")\n",
    "plt.xlabel(\"Latitude\")\n",
    "plt.grid(True)\n",
    "\n",
    "plt.savefig(\"../output_data/MaxTemperatureByLatitude.png\")\n",
    "\n",
    "plt.show()"
   ]
  },
  {
   "cell_type": "code",
   "execution_count": null,
   "metadata": {},
   "outputs": [],
   "source": [
    "# This plot is showing the relationship between the max temperature and latitude by each city in the sample. \n",
    "# As expected, the max temperature for cities closer to the equator (latitude = 0) is higher than cities farther from the equator."
   ]
  },
  {
   "cell_type": "markdown",
   "metadata": {},
   "source": [
    "## Latitude vs. Humidity Plot"
   ]
  },
  {
   "cell_type": "code",
   "execution_count": 58,
   "metadata": {},
   "outputs": [
    {
     "data": {
      "image/png": "[encoded data removed]",
      "text/plain": [
       "<Figure size 432x288 with 1 Axes>"
      ]
     },
     "metadata": {
      "needs_background": "light"
     },
     "output_type": "display_data"
    }
   ],
   "source": [
    "plt.scatter(weather_df[\"Latitude\"], weather_df[\"% Humidity\"], marker=\"o\")\n",
    "\n",
    "plt.title(\"Humidity % by City Latitude (10/10/22)\")\n",
    "plt.ylabel(\"Humidity %\")\n",
    "plt.xlabel(\"Latitude\")\n",
    "plt.grid(True)\n",
    "\n",
    "plt.savefig(\"../output_data/HumidityByLatitude.png\")\n",
    "\n",
    "plt.show()"
   ]
  },
  {
   "cell_type": "code",
   "execution_count": null,
   "metadata": {},
   "outputs": [],
   "source": [
    "# This plot shows the humidity in each city based on latitude.\n",
    "# It appears a lot of other factors impact humidity more than latitude alone."
   ]
  },
  {
   "cell_type": "markdown",
   "metadata": {},
   "source": [
    "## Latitude vs. Cloudiness Plot"
   ]
  },
  {
   "cell_type": "code",
   "execution_count": 59,
   "metadata": {},
   "outputs": [
    {
     "data": {
      "image/png": "[encoded data removed]",
      "text/plain": [
       "<Figure size 432x288 with 1 Axes>"
      ]
     },
     "metadata": {
      "needs_background": "light"
     },
     "output_type": "display_data"
    }
   ],
   "source": [
    "plt.scatter(weather_df[\"Latitude\"], weather_df[\"% Cloudiness\"], marker=\"o\")\n",
    "\n",
    "plt.title(\"Cloudiness % by Latitude (10/10/22)\")\n",
    "plt.ylabel(\"Cloudiness %\")\n",
    "plt.xlabel(\"Latitude\")\n",
    "plt.grid(True)\n",
    "\n",
    "plt.savefig(\"../output_data/CloudinessByLatitude.png\")\n",
    "\n",
    "plt.show()"
   ]
  },
  {
   "cell_type": "code",
   "execution_count": null,
   "metadata": {},
   "outputs": [],
   "source": [
    "# This plot shows the cloud cover by latitude.\n",
    "# It seems like there are a lot of cities on either extreme (very cloudy or no clouds at all) and a lot fewer data points between 0 & 100% coverage."
   ]
  },
  {
   "cell_type": "markdown",
   "metadata": {},
   "source": [
    "## Latitude vs. Wind Speed Plot"
   ]
  },
  {
   "cell_type": "code",
   "execution_count": 76,
   "metadata": {},
   "outputs": [
    {
     "data": {
      "image/png": "[encoded data removed]",
      "text/plain": [
       "<Figure size 432x288 with 1 Axes>"
      ]
     },
     "metadata": {
      "needs_background": "light"
     },
     "output_type": "display_data"
    }
   ],
   "source": [
    "plt.scatter(weather_df[\"Latitude\"], weather_df[\"Wind Speed\"], marker=\"o\")\n",
    "\n",
    "plt.title(\"Wind Speed by Latitude (10/10/22)\")\n",
    "plt.ylabel(\"Wind Speed (mph)\")\n",
    "plt.xlabel(\"Latitude\")\n",
    "plt.grid(True)\n",
    "\n",
    "plt.savefig(\"../output_data/WindSpeedByLatitude.png\")\n",
    "\n",
    "plt.show()"
   ]
  },
  {
   "cell_type": "code",
   "execution_count": null,
   "metadata": {},
   "outputs": [],
   "source": [
    "# This plot shows the wind speed in different cities by latitude.\n",
    "# It seems to me that latitude doesn't have very much effect on wind speed."
   ]
  },
  {
   "cell_type": "markdown",
   "metadata": {},
   "source": [
    "## Linear Regression"
   ]
  },
  {
   "cell_type": "code",
   "execution_count": 62,
   "metadata": {},
   "outputs": [
    {
     "data": {
      "text/html": [
       "<div>\n",
       "<style scoped>\n",
       "    .dataframe tbody tr th:only-of-type {\n",
       "        vertical-align: middle;\n",
       "    }\n",
       "\n",
       "    .dataframe tbody tr th {\n",
       "        vertical-align: top;\n",
       "    }\n",
       "\n",
       "    .dataframe thead th {\n",
       "        text-align: right;\n",
       "    }\n",
       "</style>\n",
       "<table border=\"1\" class=\"dataframe\">\n",
       "  <thead>\n",
       "    <tr style=\"text-align: right;\">\n",
       "      <th></th>\n",
       "      <th>City</th>\n",
       "      <th>Latitude</th>\n",
       "      <th>Longitude</th>\n",
       "      <th>Temperature</th>\n",
       "      <th>% Humidity</th>\n",
       "      <th>% Cloudiness</th>\n",
       "      <th>Wind Speed</th>\n",
       "    </tr>\n",
       "  </thead>\n",
       "  <tbody>\n",
       "    <tr>\n",
       "      <th>0</th>\n",
       "      <td>Manokwari</td>\n",
       "      <td>-0.8667</td>\n",
       "      <td>134.0833</td>\n",
       "      <td>299.35</td>\n",
       "      <td>75</td>\n",
       "      <td>100</td>\n",
       "      <td>1.07</td>\n",
       "    </tr>\n",
       "    <tr>\n",
       "      <th>3</th>\n",
       "      <td>Touros</td>\n",
       "      <td>-5.1989</td>\n",
       "      <td>-35.4608</td>\n",
       "      <td>299.55</td>\n",
       "      <td>76</td>\n",
       "      <td>8</td>\n",
       "      <td>6.95</td>\n",
       "    </tr>\n",
       "    <tr>\n",
       "      <th>4</th>\n",
       "      <td>Hermanus</td>\n",
       "      <td>-34.4187</td>\n",
       "      <td>19.2345</td>\n",
       "      <td>295.26</td>\n",
       "      <td>56</td>\n",
       "      <td>100</td>\n",
       "      <td>2.81</td>\n",
       "    </tr>\n",
       "    <tr>\n",
       "      <th>6</th>\n",
       "      <td>Bluff</td>\n",
       "      <td>-46.6000</td>\n",
       "      <td>168.3333</td>\n",
       "      <td>282.47</td>\n",
       "      <td>67</td>\n",
       "      <td>73</td>\n",
       "      <td>8.25</td>\n",
       "    </tr>\n",
       "    <tr>\n",
       "      <th>9</th>\n",
       "      <td>Port Alfred</td>\n",
       "      <td>-33.5906</td>\n",
       "      <td>26.8910</td>\n",
       "      <td>293.25</td>\n",
       "      <td>84</td>\n",
       "      <td>99</td>\n",
       "      <td>1.79</td>\n",
       "    </tr>\n",
       "    <tr>\n",
       "      <th>...</th>\n",
       "      <td>...</td>\n",
       "      <td>...</td>\n",
       "      <td>...</td>\n",
       "      <td>...</td>\n",
       "      <td>...</td>\n",
       "      <td>...</td>\n",
       "      <td>...</td>\n",
       "    </tr>\n",
       "    <tr>\n",
       "      <th>528</th>\n",
       "      <td>Coxim</td>\n",
       "      <td>-18.5067</td>\n",
       "      <td>-54.7600</td>\n",
       "      <td>302.13</td>\n",
       "      <td>57</td>\n",
       "      <td>81</td>\n",
       "      <td>1.76</td>\n",
       "    </tr>\n",
       "    <tr>\n",
       "      <th>532</th>\n",
       "      <td>Luau</td>\n",
       "      <td>-10.7073</td>\n",
       "      <td>22.2247</td>\n",
       "      <td>296.30</td>\n",
       "      <td>22</td>\n",
       "      <td>87</td>\n",
       "      <td>1.49</td>\n",
       "    </tr>\n",
       "    <tr>\n",
       "      <th>536</th>\n",
       "      <td>Morondava</td>\n",
       "      <td>-20.2833</td>\n",
       "      <td>44.2833</td>\n",
       "      <td>297.48</td>\n",
       "      <td>84</td>\n",
       "      <td>0</td>\n",
       "      <td>4.53</td>\n",
       "    </tr>\n",
       "    <tr>\n",
       "      <th>537</th>\n",
       "      <td>Ariquemes</td>\n",
       "      <td>-9.9133</td>\n",
       "      <td>-63.0408</td>\n",
       "      <td>307.42</td>\n",
       "      <td>38</td>\n",
       "      <td>77</td>\n",
       "      <td>0.73</td>\n",
       "    </tr>\n",
       "    <tr>\n",
       "      <th>543</th>\n",
       "      <td>Punta Alta</td>\n",
       "      <td>-38.8759</td>\n",
       "      <td>-62.0736</td>\n",
       "      <td>292.63</td>\n",
       "      <td>34</td>\n",
       "      <td>5</td>\n",
       "      <td>2.90</td>\n",
       "    </tr>\n",
       "  </tbody>\n",
       "</table>\n",
       "<p>181 rows × 7 columns</p>\n",
       "</div>"
      ],
      "text/plain": [
       "            City  Latitude  Longitude  Temperature  % Humidity  % Cloudiness  \\\n",
       "0      Manokwari   -0.8667   134.0833       299.35          75           100   \n",
       "3         Touros   -5.1989   -35.4608       299.55          76             8   \n",
       "4       Hermanus  -34.4187    19.2345       295.26          56           100   \n",
       "6          Bluff  -46.6000   168.3333       282.47          67            73   \n",
       "9    Port Alfred  -33.5906    26.8910       293.25          84            99   \n",
       "..           ...       ...        ...          ...         ...           ...   \n",
       "528        Coxim  -18.5067   -54.7600       302.13          57            81   \n",
       "532         Luau  -10.7073    22.2247       296.30          22            87   \n",
       "536    Morondava  -20.2833    44.2833       297.48          84             0   \n",
       "537    Ariquemes   -9.9133   -63.0408       307.42          38            77   \n",
       "543   Punta Alta  -38.8759   -62.0736       292.63          34             5   \n",
       "\n",
       "     Wind Speed  \n",
       "0          1.07  \n",
       "3          6.95  \n",
       "4          2.81  \n",
       "6          8.25  \n",
       "9          1.79  \n",
       "..          ...  \n",
       "528        1.76  \n",
       "532        1.49  \n",
       "536        4.53  \n",
       "537        0.73  \n",
       "543        2.90  \n",
       "\n",
       "[181 rows x 7 columns]"
      ]
     },
     "execution_count": 62,
     "metadata": {},
     "output_type": "execute_result"
    }
   ],
   "source": [
    "northern_hemi = weather_df[weather_df['Latitude'] >= 0]\n",
    "southern_hemi = weather_df[weather_df['Latitude'] < 0]"
   ]
  },
  {
   "cell_type": "markdown",
   "metadata": {},
   "source": [
    "####  Northern Hemisphere - Max Temp vs. Latitude Linear Regression"
   ]
  },
  {
   "cell_type": "code",
   "execution_count": 97,
   "metadata": {},
   "outputs": [
    {
     "data": {
      "image/png": "[encoded data removed]",
      "text/plain": [
       "<Figure size 432x288 with 1 Axes>"
      ]
     },
     "metadata": {
      "needs_background": "light"
     },
     "output_type": "display_data"
    },
    {
     "name": "stdout",
     "output_type": "stream",
     "text": [
      "The correlation between Latitude and Temperature in the Northern Hemisphere is -0.8280676249437278\n",
      "363\n"
     ]
    }
   ],
   "source": [
    "x_values = northern_hemi[\"Latitude\"]\n",
    "y_values = northern_hemi[\"Temperature\"]\n",
    "correlation = x_values.corr(y_values, method='pearson')\n",
    "(slope, intercept, rvalue, pvalue, stderr) = linregress(x_values, y_values)\n",
    "regress_values = x_values * slope + intercept\n",
    "line_eq = \"y = \" + str(round(slope,2)) + \"x + \" + str(round(intercept,2))\n",
    "plt.scatter(x_values,y_values, marker=\"o\")\n",
    "plt.plot(x_values,regress_values,\"r-\")\n",
    "plt.annotate(line_eq,(5.8,0.8),fontsize=15,color=\"red\")\n",
    "plt.xlabel('Latitude')\n",
    "plt.ylabel('Max Temperature')\n",
    "plt.title('Max Temperature by Latitude in the Northern Hemisphere (10/10/22)')\n",
    "plt.show()\n",
    "print(f'The correlation between Latitude and Temperature in the Northern Hemisphere is {correlation}')"
   ]
  },
  {
   "cell_type": "markdown",
   "metadata": {},
   "source": [
    "####  Southern Hemisphere - Max Temp vs. Latitude Linear Regression"
   ]
  },
  {
   "cell_type": "code",
   "execution_count": 99,
   "metadata": {},
   "outputs": [
    {
     "data": {
      "image/png": "[encoded data removed]",
      "text/plain": [
       "<Figure size 432x288 with 1 Axes>"
      ]
     },
     "metadata": {
      "needs_background": "light"
     },
     "output_type": "display_data"
    },
    {
     "name": "stdout",
     "output_type": "stream",
     "text": [
      "The correlation between Latitude and Temperature in the Southern Hemisphere is 0.7008941006834659\n"
     ]
    }
   ],
   "source": [
    "x_values = southern_hemi[\"Latitude\"]\n",
    "y_values = southern_hemi[\"Temperature\"]\n",
    "correlation = x_values.corr(y_values, method='pearson')\n",
    "(slope, intercept, rvalue, pvalue, stderr) = linregress(x_values, y_values)\n",
    "regress_values = x_values * slope + intercept\n",
    "line_eq = \"y = \" + str(round(slope,2)) + \"x + \" + str(round(intercept,2))\n",
    "plt.scatter(x_values,y_values, marker=\"o\")\n",
    "plt.plot(x_values,regress_values,\"r-\")\n",
    "plt.annotate(line_eq,(5.8,0.8),fontsize=15,color=\"red\")\n",
    "plt.xlabel('Latitude')\n",
    "plt.ylabel('Max Temperature')\n",
    "plt.title('Max Temperature by Latitude in the Southern Hemisphere (10/10/22)')\n",
    "plt.show()\n",
    "print(f'The correlation between Latitude and Temperature in the Southern Hemisphere is {correlation}')"
   ]
  },
  {
   "cell_type": "code",
   "execution_count": 96,
   "metadata": {},
   "outputs": [],
   "source": [
    "# The linear regression here shows that there is a decently strong correlation between latitude and max temperature.\\\n",
    "# The correlation is stronger in the Northern Hemisphere than it is in the Southern but that is likely due to the fact\n",
    "# that the Northern Hemisphere has significantly more data points than the Southern Hemisphere (363 vs 181, respectively)."
   ]
  },
  {
   "cell_type": "markdown",
   "metadata": {},
   "source": [
    "####  Northern Hemisphere - Humidity (%) vs. Latitude Linear Regression"
   ]
  },
  {
   "cell_type": "code",
   "execution_count": 89,
   "metadata": {},
   "outputs": [
    {
     "data": {
      "image/png": "[encoded data removed]",
      "text/plain": [
       "<Figure size 432x288 with 1 Axes>"
      ]
     },
     "metadata": {
      "needs_background": "light"
     },
     "output_type": "display_data"
    },
    {
     "name": "stdout",
     "output_type": "stream",
     "text": [
      "The correlation between Latitude and Humidity in the Northern Hemisphere is 0.16452976303152295\n"
     ]
    }
   ],
   "source": [
    "x_values = northern_hemi[\"Latitude\"]\n",
    "y_values = northern_hemi[\"% Humidity\"]\n",
    "correlation = x_values.corr(y_values, method='pearson')\n",
    "(slope, intercept, rvalue, pvalue, stderr) = linregress(x_values, y_values)\n",
    "regress_values = x_values * slope + intercept\n",
    "line_eq = \"y = \" + str(round(slope,2)) + \"x + \" + str(round(intercept,2))\n",
    "plt.scatter(x_values,y_values, marker=\"o\")\n",
    "plt.plot(x_values,regress_values,\"r-\")\n",
    "plt.annotate(line_eq,(5.8,0.8),fontsize=15,color=\"red\")\n",
    "plt.xlabel('Latitude')\n",
    "plt.ylabel('Humidity %')\n",
    "plt.title('Humidity % by Latitude in the Northern Hemisphere (10/10/22)')\n",
    "plt.show()\n",
    "print(f'The correlation between Latitude and Humidity in the Northern Hemisphere is {correlation}')"
   ]
  },
  {
   "cell_type": "markdown",
   "metadata": {},
   "source": [
    "####  Southern Hemisphere - Humidity (%) vs. Latitude Linear Regression"
   ]
  },
  {
   "cell_type": "code",
   "execution_count": 90,
   "metadata": {},
   "outputs": [
    {
     "data": {
      "image/png": "[encoded data removed]",
      "text/plain": [
       "<Figure size 432x288 with 1 Axes>"
      ]
     },
     "metadata": {
      "needs_background": "light"
     },
     "output_type": "display_data"
    },
    {
     "name": "stdout",
     "output_type": "stream",
     "text": [
      "The correlation between Latitude and Humidity in the Southern Hemisphere is 0.10560062480313993\n"
     ]
    }
   ],
   "source": [
    "x_values = southern_hemi[\"Latitude\"]\n",
    "y_values = southern_hemi[\"% Humidity\"]\n",
    "correlation = x_values.corr(y_values, method='pearson')\n",
    "(slope, intercept, rvalue, pvalue, stderr) = linregress(x_values, y_values)\n",
    "regress_values = x_values * slope + intercept\n",
    "line_eq = \"y = \" + str(round(slope,2)) + \"x + \" + str(round(intercept,2))\n",
    "plt.scatter(x_values,y_values, marker=\"o\")\n",
    "plt.plot(x_values,regress_values,\"r-\")\n",
    "plt.annotate(line_eq,(5.8,0.8),fontsize=15,color=\"red\")\n",
    "plt.xlabel('Latitude')\n",
    "plt.ylabel('Humidity %')\n",
    "plt.title('Humidity % by Latitude in the Southern Hemisphere (10/10/22)')\n",
    "plt.show()\n",
    "print(f'The correlation between Latitude and Humidity in the Southern Hemisphere is {correlation}')"
   ]
  },
  {
   "cell_type": "code",
   "execution_count": null,
   "metadata": {},
   "outputs": [],
   "source": [
    "# The correlation between latitude and % humidity is extremely weak, almost non existent.\n",
    "# The hemispheres both have about the same correlation so my conclusion is that humidity is dictated by factors other than latitude."
   ]
  },
  {
   "cell_type": "markdown",
   "metadata": {},
   "source": [
    "####  Northern Hemisphere - Cloudiness (%) vs. Latitude Linear Regression"
   ]
  },
  {
   "cell_type": "code",
   "execution_count": 91,
   "metadata": {},
   "outputs": [
    {
     "data": {
      "image/png": "[encoded data removed]",
      "text/plain": [
       "<Figure size 432x288 with 1 Axes>"
      ]
     },
     "metadata": {
      "needs_background": "light"
     },
     "output_type": "display_data"
    },
    {
     "name": "stdout",
     "output_type": "stream",
     "text": [
      "The correlation between Latitude and Cloudiness in the Northern Hemisphere is 0.13714516650923672\n"
     ]
    }
   ],
   "source": [
    "x_values = northern_hemi[\"Latitude\"]\n",
    "y_values = northern_hemi[\"% Cloudiness\"]\n",
    "correlation = x_values.corr(y_values, method='pearson')\n",
    "(slope, intercept, rvalue, pvalue, stderr) = linregress(x_values, y_values)\n",
    "regress_values = x_values * slope + intercept\n",
    "line_eq = \"y = \" + str(round(slope,2)) + \"x + \" + str(round(intercept,2))\n",
    "plt.scatter(x_values,y_values, marker=\"o\")\n",
    "plt.plot(x_values,regress_values,\"r-\")\n",
    "plt.annotate(line_eq,(5.8,0.8),fontsize=15,color=\"red\")\n",
    "plt.xlabel('Latitude')\n",
    "plt.ylabel('Cloudiness %')\n",
    "plt.title('Cloudiness % by Latitude in the Northern Hemisphere (10/10/22)')\n",
    "plt.show()\n",
    "print(f'The correlation between Latitude and Cloudiness in the Northern Hemisphere is {correlation}')"
   ]
  },
  {
   "cell_type": "markdown",
   "metadata": {},
   "source": [
    "####  Southern Hemisphere - Cloudiness (%) vs. Latitude Linear Regression"
   ]
  },
  {
   "cell_type": "code",
   "execution_count": 92,
   "metadata": {},
   "outputs": [
    {
     "data": {
      "image/png": "[encoded data removed]",
      "text/plain": [
       "<Figure size 432x288 with 1 Axes>"
      ]
     },
     "metadata": {
      "needs_background": "light"
     },
     "output_type": "display_data"
    },
    {
     "name": "stdout",
     "output_type": "stream",
     "text": [
      "The correlation between Latitude and Cloudiness in the Southern Hemisphere is 0.08677078190725071\n"
     ]
    }
   ],
   "source": [
    "x_values = southern_hemi[\"Latitude\"]\n",
    "y_values = southern_hemi[\"% Cloudiness\"]\n",
    "correlation = x_values.corr(y_values, method='pearson')\n",
    "(slope, intercept, rvalue, pvalue, stderr) = linregress(x_values, y_values)\n",
    "regress_values = x_values * slope + intercept\n",
    "line_eq = \"y = \" + str(round(slope,2)) + \"x + \" + str(round(intercept,2))\n",
    "plt.scatter(x_values,y_values, marker=\"o\")\n",
    "plt.plot(x_values,regress_values,\"r-\")\n",
    "plt.annotate(line_eq,(5.8,0.8),fontsize=15,color=\"red\")\n",
    "plt.xlabel('Latitude')\n",
    "plt.ylabel('Cloudiness %')\n",
    "plt.title('Cloudiness % by Latitude in the Southern Hemisphere (10/10/22)')\n",
    "plt.show()\n",
    "print(f'The correlation between Latitude and Cloudiness in the Southern Hemisphere is {correlation}')"
   ]
  },
  {
   "cell_type": "code",
   "execution_count": null,
   "metadata": {},
   "outputs": [],
   "source": [
    "# The correlation between latitude and cloudiness is also extremely weak.\n",
    "# The same thing can be said for both hemispheres: cloudiness is dictated by factors other than latitude."
   ]
  },
  {
   "cell_type": "markdown",
   "metadata": {},
   "source": [
    "####  Northern Hemisphere - Wind Speed (mph) vs. Latitude Linear Regression"
   ]
  },
  {
   "cell_type": "code",
   "execution_count": 93,
   "metadata": {},
   "outputs": [
    {
     "data": {
      "image/png": "[encoded data removed]",
      "text/plain": [
       "<Figure size 432x288 with 1 Axes>"
      ]
     },
     "metadata": {
      "needs_background": "light"
     },
     "output_type": "display_data"
    },
    {
     "name": "stdout",
     "output_type": "stream",
     "text": [
      "The correlation between Latitude and Wind Speed in the Northern Hemisphere is 0.19229940741616086\n"
     ]
    }
   ],
   "source": [
    "x_values = northern_hemi[\"Latitude\"]\n",
    "y_values = northern_hemi[\"Wind Speed\"]\n",
    "correlation = x_values.corr(y_values, method='pearson')\n",
    "(slope, intercept, rvalue, pvalue, stderr) = linregress(x_values, y_values)\n",
    "regress_values = x_values * slope + intercept\n",
    "line_eq = \"y = \" + str(round(slope,2)) + \"x + \" + str(round(intercept,2))\n",
    "plt.scatter(x_values,y_values, marker=\"o\")\n",
    "plt.plot(x_values,regress_values,\"r-\")\n",
    "plt.annotate(line_eq,(5.8,0.8),fontsize=15,color=\"red\")\n",
    "plt.xlabel('Latitude')\n",
    "plt.ylabel('Wind Speed (mph)')\n",
    "plt.title('Wind Speed by Latitude in the Northern Hemisphere (10/10/22)')\n",
    "plt.show()\n",
    "print(f'The correlation between Latitude and Wind Speed in the Northern Hemisphere is {correlation}')"
   ]
  },
  {
   "cell_type": "markdown",
   "metadata": {},
   "source": [
    "####  Southern Hemisphere - Wind Speed (mph) vs. Latitude Linear Regression"
   ]
  },
  {
   "cell_type": "code",
   "execution_count": 94,
   "metadata": {},
   "outputs": [
    {
     "data": {
      "image/png": "[encoded data removed]",
      "text/plain": [
       "<Figure size 432x288 with 1 Axes>"
      ]
     },
     "metadata": {
      "needs_background": "light"
     },
     "output_type": "display_data"
    },
    {
     "name": "stdout",
     "output_type": "stream",
     "text": [
      "The correlation between Latitude and Wind Speed in the Southern Hemisphere is -0.3088555689792725\n"
     ]
    }
   ],
   "source": [
    "x_values = southern_hemi[\"Latitude\"]\n",
    "y_values = southern_hemi[\"Wind Speed\"]\n",
    "correlation = x_values.corr(y_values, method='pearson')\n",
    "(slope, intercept, rvalue, pvalue, stderr) = linregress(x_values, y_values)\n",
    "regress_values = x_values * slope + intercept\n",
    "line_eq = \"y = \" + str(round(slope,2)) + \"x + \" + str(round(intercept,2))\n",
    "plt.scatter(x_values,y_values, marker=\"o\")\n",
    "plt.plot(x_values,regress_values,\"r-\")\n",
    "plt.annotate(line_eq,(5.8,0.8),fontsize=15,color=\"red\")\n",
    "plt.xlabel('Latitude')\n",
    "plt.ylabel('Wind Speed (mph)')\n",
    "plt.title('Wind Speed by Latitude in the Southern Hemisphere (10/10/22)')\n",
    "plt.show()\n",
    "print(f'The correlation between Latitude and Wind Speed in the Southern Hemisphere is {correlation}')"
   ]
  },
  {
   "cell_type": "code",
   "execution_count": null,
   "metadata": {},
   "outputs": [],
   "source": [
    "# The correlation between latitude and wind speed is also pretty weak. There is a small correlation but nothing that makes the impression latitude causes a difference in wind speed.\n",
    "# It does appear that wind speed increases a bit the further a city is from the equator."
   ]
  },
  {
   "cell_type": "code",
   "execution_count": null,
   "metadata": {},
   "outputs": [],
   "source": [
    "# Observations\n",
    "\n",
    "# The temperature appears to be in Kelvin (as far as I can tell) and not in Celsius or Fahrenheit. That is interesting to me.\n",
    "\n",
    "# The only factor dictated heavily by latitude is max temp\n",
    "\n",
    "# No other factor had a strong enough r value to deem their relationship to latitude as significant."
   ]
  }
 ],
 "metadata": {
  "anaconda-cloud": {},
  "kernel_info": {
   "name": "python3"
  },
  "kernelspec": {
   "display_name": "Python 3.9.12 ('base')",
   "language": "python",
   "name": "python3"
  },
  "language_info": {
   "codemirror_mode": {
    "name": "ipython",
    "version": 3
   },
   "file_extension": ".py",
   "mimetype": "text/x-python",
   "name": "python",
   "nbconvert_exporter": "python",
   "pygments_lexer": "ipython3",
   "version": "3.9.12"
  },
  "latex_envs": {
   "LaTeX_envs_menu_present": true,
   "autoclose": false,
   "autocomplete": true,
   "bibliofile": "biblio.bib",
   "cite_by": "apalike",
   "current_citInitial": 1,
   "eqLabelWithNumbers": true,
   "eqNumInitial": 1,
   "hotkeys": {
    "equation": "Ctrl-E",
    "itemize": "Ctrl-I"
   },
   "labels_anchors": false,
   "latex_user_defs": false,
   "report_style_numbering": false,
   "user_envs_cfg": false
  },
  "nteract": {
   "version": "0.12.3"
  },
  "vscode": {
   "interpreter": {
    "hash": "d7b054fae873c679f7a7d315662a75b5540f2d164a76b8054cbee566aac4291b"
   }
  }
 },
 "nbformat": 4,
 "nbformat_minor": 4
}
